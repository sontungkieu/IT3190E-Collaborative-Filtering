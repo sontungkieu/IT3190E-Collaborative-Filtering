{
 "cells": [
  {
   "cell_type": "markdown",
   "id": "6319207a",
   "metadata": {},
   "source": [
    "# 1.Setup"
   ]
  },
  {
   "cell_type": "code",
   "execution_count": null,
   "id": "b5d497e1",
   "metadata": {},
   "outputs": [],
   "source": [
    "import numpy as np\n",
    "import pandas as pd\n",
    "import matplotlib.pyplot as plt\n",
    "import seaborn as sns\n",
    "import requests\n",
    "from tqdm import tqdm\n",
    "import matplotlib\n",
    "import os\n",
    "import json\n",
    "import requests"
   ]
  },
  {
   "cell_type": "markdown",
   "id": "0b491c59",
   "metadata": {},
   "source": [
    "# 2. Investigating Ratings"
   ]
  },
  {
   "cell_type": "code",
   "execution_count": null,
   "id": "8574b691",
   "metadata": {},
   "outputs": [],
   "source": [
    "r_cols = [\"user_id\", \"item_id\", \"rating\", \"timestamp\"]\n",
    "ratings_df = pd.read_csv(\"data/ml-1m/ratings.dat\", engine=\"python\", sep=\"::\", names=r_cols)\n",
    "ratings_df.head()"
   ]
  },
  {
   "cell_type": "code",
   "execution_count": null,
   "id": "aaab5c2f",
   "metadata": {},
   "outputs": [],
   "source": [
    "# Basic statistics\n",
    "num_users = ratings_df[\"user_id\"].nunique()\n",
    "num_items = ratings_df[\"item_id\"].nunique()\n",
    "print(f\"Số lượng users: {num_users}\")\n",
    "print(f\"Số lượng items: {num_items}\")\n",
    "\n",
    "interaction_count = len(ratings_df)\n",
    "print(f\"Số lượng tương tác user-item: {interaction_count}\")"
   ]
  },
  {
   "cell_type": "code",
   "execution_count": null,
   "id": "44cd7cd2",
   "metadata": {},
   "outputs": [],
   "source": [
    "# # avg rating per user\n",
    "# plt.figure(figsize=(7,5))\n",
    "# ratings_per_user = ratings_df.groupby('user_id').size()\n",
    "# ratings_per_user_filtered = ratings_per_user[ratings_per_user <= 500]\n",
    "# sns.histplot(ratings_per_user_filtered, bins=25, kde=False)\n",
    "# plt.title(\"Phân phối số lượng rating mỗi user (0 - 500)\")\n",
    "# plt.xlabel(\"Số rating mỗi user\")\n",
    "# plt.ylabel(\"Số lượng user\")\n",
    "# plt.xlim(0, 500)\n",
    "# plt.show()"
   ]
  },
  {
   "cell_type": "code",
   "execution_count": null,
   "id": "96070f06",
   "metadata": {},
   "outputs": [],
   "source": [
    "# # avg rating per item\n",
    "# plt.figure(figsize=(7,5))\n",
    "# ratings_per_item = ratings_df.groupby('item_id').size()\n",
    "# ratings_per_item_filtered = ratings_per_item[ratings_per_item <= 500]\n",
    "# sns.histplot(ratings_per_item_filtered, bins=25, kde=False)\n",
    "# plt.title(\"Phân phối số lượng rating mỗi item (0 - 500)\")\n",
    "# plt.xlabel(\"Số rating mỗi item\")\n",
    "# plt.ylabel(\"Số lượng item\")\n",
    "# plt.xlim(0, 500)\n",
    "# plt.tight_layout()\n",
    "# plt.show()"
   ]
  },
  {
   "cell_type": "code",
   "execution_count": null,
   "id": "5a82de82",
   "metadata": {},
   "outputs": [],
   "source": [
    "# Tính rating density (utility matrix density)\n",
    "density = interaction_count / (num_users * num_items)\n",
    "print(f\"Rating density (utility matrix density): {density:.6f}\")\n",
    "\n",
    "# plt.figure(figsize=(6,4))\n",
    "# sns.countplot(x='rating', data=ratings_df)\n",
    "# plt.title(\"Phân phối giá trị rating\")\n",
    "# plt.xlabel(\"Rating\")\n",
    "# plt.ylabel(\"Số lượng rating\")\n",
    "# plt.show()"
   ]
  },
  {
   "cell_type": "code",
   "execution_count": null,
   "id": "049452c0",
   "metadata": {},
   "outputs": [],
   "source": [
    "avg_rating_per_item = ratings_df.groupby('item_id')['rating'].mean()\n",
    "avg_rating_per_user = ratings_df.groupby('user_id')['rating'].mean()\n",
    "\n",
    "print(f\"Trung bình rating mỗi item: \\n{avg_rating_per_item.head()}\")\n",
    "print(f\"Trung bình rating mỗi user: \\n{avg_rating_per_user.head()}\")"
   ]
  },
  {
   "cell_type": "code",
   "execution_count": null,
   "id": "46c73cf0",
   "metadata": {},
   "outputs": [],
   "source": [
    "# # Optional: Vẽ biểu đồ trung bình rating mỗi user và mỗi item\n",
    "# plt.figure(figsize=(14,5))\n",
    "\n",
    "# plt.subplot(1,2,1)\n",
    "# sns.histplot(avg_rating_per_user, bins=50, kde=True)\n",
    "# plt.title(\"Phân phối trung bình rating mỗi user\")\n",
    "# plt.xlabel(\"Trung bình rating\")\n",
    "# plt.ylabel(\"Số lượng user\")\n",
    "\n",
    "# plt.subplot(1,2,2)\n",
    "# sns.histplot(avg_rating_per_item, bins=50, kde=True)\n",
    "# plt.title(\"Phân phối trung bình rating mỗi item\")\n",
    "# plt.xlabel(\"Trung bình rating\")\n",
    "# plt.ylabel(\"Số lượng item\")\n",
    "\n",
    "# plt.tight_layout()\n",
    "# plt.show()"
   ]
  },
  {
   "cell_type": "code",
   "execution_count": null,
   "id": "8299b9e8",
   "metadata": {},
   "outputs": [],
   "source": [
    "ratings_df.to_csv(\"ratings.csv\", index=False)"
   ]
  },
  {
   "cell_type": "markdown",
   "id": "91cd83dd",
   "metadata": {},
   "source": [
    "# 3. Investigating Users"
   ]
  },
  {
   "cell_type": "code",
   "execution_count": null,
   "id": "5c6b9c54",
   "metadata": {},
   "outputs": [],
   "source": [
    "u_cols = [\"user_id\", \"gender\", \"age\", \"occupation\", \"zip_code\"]\n",
    "user_df = pd.read_csv(\"data/ml-1m/users.dat\", engine=\"python\", sep=\"::\", names=u_cols)\n",
    "\n",
    "user_df.head()"
   ]
  },
  {
   "cell_type": "code",
   "execution_count": null,
   "id": "8a6eab05",
   "metadata": {},
   "outputs": [],
   "source": [
    "user_df.to_csv(\"users.csv\", index=False)"
   ]
  },
  {
   "cell_type": "markdown",
   "id": "335a12f4",
   "metadata": {},
   "source": [
    "# 4. Investigating Movies"
   ]
  },
  {
   "cell_type": "code",
   "execution_count": null,
   "id": "406c2474",
   "metadata": {},
   "outputs": [],
   "source": [
    "m_cols = [\"item_id\", \"title\", \"genre\"]\n",
    "movies_df = pd.read_csv(\n",
    "    \"data/ml-1m/movies.dat\",\n",
    "    sep=\"::\",\n",
    "    engine=\"python\",\n",
    "    names=m_cols,\n",
    "    encoding=\"latin-1\"         \n",
    ")\n",
    "\n",
    "movies_df.head()"
   ]
  },
  {
   "cell_type": "code",
   "execution_count": null,
   "id": "470501b6",
   "metadata": {},
   "outputs": [],
   "source": [
    "# Function to compute avg rating per movie \n",
    "def compute_avg_ratings(df):\n",
    "    agg = (\n",
    "        df.groupby(\"item_id\")[\"rating\"]\n",
    "        .agg(avg_rating=\"mean\", num_ratings=\"count\")\n",
    "        .reset_index()\n",
    "    )\n",
    "    return agg\n",
    "\n",
    "avg_df = compute_avg_ratings(ratings_df)"
   ]
  },
  {
   "cell_type": "code",
   "execution_count": null,
   "id": "6787e5ca",
   "metadata": {},
   "outputs": [],
   "source": [
    "movie_titles = movies_df[\"title\"].tolist()\n",
    "movie_titles[0:5]"
   ]
  },
  {
   "cell_type": "code",
   "execution_count": null,
   "id": "2c2dcf50",
   "metadata": {},
   "outputs": [],
   "source": [
    "# import os\n",
    "# import json\n",
    "# import requests\n",
    "# from tqdm import tqdm\n",
    "# from concurrent.futures import ThreadPoolExecutor, as_completed\n",
    "# import re\n",
    "\n",
    "# # ── Config ─────────────────────────────────────────────────────────────────────\n",
    "# TMDB_API_KEY = \"4d8b37c0931a16ee9390065936018eac\"\n",
    "# SEARCH_URL   = \"https://api.themoviedb.org/3/search/movie\"\n",
    "# DETAILS_URL  = \"https://api.themoviedb.org/3/movie/{movie_id}\"\n",
    "\n",
    "# OUTPUT_FILE = \"descriptions.jsonl\"\n",
    "# LOG_FILE    = \"error_log.txt\"\n",
    "\n",
    "# # ── Helpers ────────────────────────────────────────────────────────────────────\n",
    "# YEAR_RE = re.compile(r\"^(.*)\\s+\\((\\d{4})\\)\\s*$\")\n",
    "# def split_title_and_year(full_title):\n",
    "#     m = YEAR_RE.match(full_title)\n",
    "#     if m:\n",
    "#         return m.group(1), int(m.group(2))\n",
    "#     return full_title, None\n",
    "\n",
    "# def fetch_description_for_title(full_title):\n",
    "#     name, year = split_title_and_year(full_title)\n",
    "#     try:\n",
    "#         params = {\n",
    "#             \"api_key\":      TMDB_API_KEY,\n",
    "#             \"query\":        name,\n",
    "#             \"include_adult\": False\n",
    "#         }\n",
    "#         if year:\n",
    "#             params[\"primary_release_year\"] = year\n",
    "\n",
    "#         r = requests.get(SEARCH_URL, params=params, timeout=5)\n",
    "#         r.raise_for_status()\n",
    "#         results = r.json().get(\"results\", [])\n",
    "#         if not results:\n",
    "#             raise ValueError(\"no-results\")\n",
    "\n",
    "#         movie_id = results[0][\"id\"]\n",
    "#         r2 = requests.get(\n",
    "#             DETAILS_URL.format(movie_id=movie_id),\n",
    "#             params={\"api_key\": TMDB_API_KEY, \"language\": \"en-US\"},\n",
    "#             timeout=5\n",
    "#         )\n",
    "#         r2.raise_for_status()\n",
    "\n",
    "#         overview = r2.json().get(\"overview\", \"\")\n",
    "#         return (full_title, overview, None)\n",
    "#     except Exception as e:\n",
    "#         return (full_title, \"\", str(e))\n",
    "\n",
    "# results = []\n",
    "# with open(OUTPUT_FILE, \"w\", encoding=\"utf-8\") as fout, \\\n",
    "#      open(LOG_FILE,    \"w\", encoding=\"utf-8\") as flog, \\\n",
    "#      ThreadPoolExecutor(max_workers=5) as pool:\n",
    "\n",
    "#     futures = { pool.submit(fetch_description_for_title, t): t for t in movie_titles }\n",
    "\n",
    "#     for fut in tqdm(as_completed(futures), total=len(futures), desc=\"Fetching 10\"):\n",
    "#         title = futures[fut]\n",
    "#         t, overview, err = fut.result()\n",
    "\n",
    "#         # 1) Log error if any\n",
    "#         if err:\n",
    "#             flog.write(f\"{t} - {err}\\n\")\n",
    "\n",
    "#         # 2) Write out to JSONL\n",
    "#         record = {\"title\": t, \"description\": overview}\n",
    "#         fout.write(json.dumps(record, ensure_ascii=False) + \"\\n\")\n",
    "\n",
    "#         # 3) Collect for printing\n",
    "#         results.append(record)\n",
    "\n",
    "# print(\"\\nFetched Descriptions (first 100 chars):\")\n",
    "# for rec in results:\n",
    "#     print(f\"- {rec['title']}: {rec['description'][:100]!r}\")"
   ]
  },
  {
   "cell_type": "code",
   "execution_count": null,
   "id": "df5a96d0",
   "metadata": {},
   "outputs": [],
   "source": [
    "desc_df = pd.read_json(\"descriptions.jsonl\", lines=True)[[\"title\", \"description\"]]"
   ]
  },
  {
   "cell_type": "code",
   "execution_count": null,
   "id": "932d03ee",
   "metadata": {},
   "outputs": [],
   "source": [
    "desc_df.head()"
   ]
  },
  {
   "cell_type": "code",
   "execution_count": null,
   "id": "e7cb0879",
   "metadata": {},
   "outputs": [],
   "source": [
    "movies_stats = movies_df.merge(\n",
    "    avg_df,\n",
    "    on=\"item_id\",\n",
    "    how=\"left\"\n",
    ") \n",
    "\n",
    "movies_full = movies_stats.merge(\n",
    "    desc_df,\n",
    "    on=\"title\",\n",
    "    how=\"left\"\n",
    ")\n",
    "\n",
    "movies_full[\"avg_rating\"]  = movies_full[\"avg_rating\"].fillna(0)\n",
    "movies_full[\"num_ratings\"] = movies_full[\"num_ratings\"].fillna(0).astype(int)\n",
    "movies_full[\"description\"] = movies_full[\"description\"].fillna(\"\")\n",
    "\n",
    "movies_full = movies_full[\n",
    "    [\"item_id\", \"title\", \"genre\", \"avg_rating\", \"num_ratings\", \"description\"]\n",
    "]\n",
    "\n",
    "movies_full.to_csv(\"movies.csv\", index=False, encoding=\"utf-8\")\n",
    "print(\"Wrote\", len(movies_full), \"rows to movies.csv\")"
   ]
  }
 ],
 "metadata": {
  "kernelspec": {
   "display_name": "Python 3",
   "language": "python",
   "name": "python3"
  },
  "language_info": {
   "codemirror_mode": {
    "name": "ipython",
    "version": 3
   },
   "file_extension": ".py",
   "mimetype": "text/x-python",
   "name": "python",
   "nbconvert_exporter": "python",
   "pygments_lexer": "ipython3",
   "version": "3.12.3"
  }
 },
 "nbformat": 4,
 "nbformat_minor": 5
}
